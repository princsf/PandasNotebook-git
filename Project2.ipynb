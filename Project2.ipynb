{
 "cells": [
  {
   "cell_type": "markdown",
   "id": "87b00bae",
   "metadata": {},
   "source": [
    "# Python - Project2\n",
    "#### By:\n"
   ]
  },
  {
   "cell_type": "markdown",
   "id": "d084d7ad",
   "metadata": {},
   "source": [
    "## Import Pandas Libraries"
   ]
  },
  {
   "cell_type": "code",
   "execution_count": null,
   "id": "cdbf7281",
   "metadata": {},
   "outputs": [],
   "source": [
    "import pandas as pd\n",
    "import matplotlib.pyplot as plt\n",
    "import numpy as np\n",
    "import seaborn as sns\n",
    "%matplotlib inline"
   ]
  },
  {
   "cell_type": "markdown",
   "id": "6a001cdd",
   "metadata": {},
   "source": [
    "## Data Wrangling and cleaning"
   ]
  },
  {
   "cell_type": "markdown",
   "id": "43795cac",
   "metadata": {},
   "source": [
    "* Read data from its location and display"
   ]
  },
  {
   "cell_type": "code",
   "execution_count": null,
   "id": "4b2d00ac",
   "metadata": {},
   "outputs": [],
   "source": [
    "diabeticdata = pd.read_csv('diabetic_data.csv')\n",
    "diabeticdata.head()"
   ]
  },
  {
   "cell_type": "markdown",
   "id": "b2818836",
   "metadata": {},
   "source": [
    "\n",
    "### Renaming Variables"
   ]
  },
  {
   "cell_type": "code",
   "execution_count": null,
   "id": "27ce4346",
   "metadata": {
    "scrolled": true
   },
   "outputs": [],
   "source": [
    "diabeticdata.rename({'race': 'Patient Race', 'gender': 'Patient Gender', 'age': 'Patient Age', 'weight':'Patient weight','diabetesMed': 'Is Patient on diabetes Meds?','time_in_hospital': 'Time In Hospital','insulin': 'Patient Insulin' },  axis=1, inplace=True)\n",
    "diabeticdata"
   ]
  },
  {
   "cell_type": "markdown",
   "id": "27a50dbf",
   "metadata": {},
   "source": [
    "### Filtering Data"
   ]
  },
  {
   "cell_type": "markdown",
   "id": "7baef3d7",
   "metadata": {},
   "source": [
    "* Show only colums i need"
   ]
  },
  {
   "cell_type": "code",
   "execution_count": null,
   "id": "12226bf4",
   "metadata": {},
   "outputs": [],
   "source": [
    "patient_stats = diabeticdata[[\"Patient Race\",\"Patient Gender\",\"Patient Age\",\"Is Patient on diabetes Meds?\", \"Time In Hospital\", \"Patient Insulin\"]]\n",
    "patient_stats.head()\n"
   ]
  },
  {
   "cell_type": "code",
   "execution_count": null,
   "id": "0fb74999",
   "metadata": {},
   "outputs": [],
   "source": [
    "print(patient_stats.describe())"
   ]
  },
  {
   "cell_type": "code",
   "execution_count": null,
   "id": "2ae2e1b2",
   "metadata": {},
   "outputs": [],
   "source": []
  },
  {
   "cell_type": "markdown",
   "id": "4967251b",
   "metadata": {},
   "source": [
    "### Data Aggregation"
   ]
  },
  {
   "cell_type": "code",
   "execution_count": null,
   "id": "9699e115",
   "metadata": {},
   "outputs": [],
   "source": [
    "patient_stats.groupby('Patient Race').sum()\n",
    "\n"
   ]
  },
  {
   "cell_type": "code",
   "execution_count": null,
   "id": "82ab1377",
   "metadata": {},
   "outputs": [],
   "source": []
  },
  {
   "cell_type": "code",
   "execution_count": null,
   "id": "0423ea8c",
   "metadata": {},
   "outputs": [],
   "source": []
  },
  {
   "cell_type": "markdown",
   "id": "dc900ce2",
   "metadata": {},
   "source": [
    "### Data Visualization Techniques"
   ]
  },
  {
   "cell_type": "code",
   "execution_count": null,
   "id": "c124c826",
   "metadata": {},
   "outputs": [],
   "source": []
  },
  {
   "cell_type": "code",
   "execution_count": null,
   "id": "7b9dc75f",
   "metadata": {},
   "outputs": [],
   "source": [
    "labels=patient_stats.index\n",
    "colors=['yellow', 'red', 'orange', 'navy', 'pink', 'green', 'brown']\n",
    "patient_stats.plot.pie(y='Time In Hospital’, labels=labels,figsize=(8, 6), colors=colors)\n",
    "plt.show()\n"
   ]
  },
  {
   "cell_type": "code",
   "execution_count": null,
   "id": "3ac7bfaf",
   "metadata": {},
   "outputs": [],
   "source": [
    "patient_stats.plot.barh(stacked=True);"
   ]
  },
  {
   "cell_type": "markdown",
   "id": "485b0ef4",
   "metadata": {},
   "source": [
    "*  Bar plot"
   ]
  },
  {
   "cell_type": "code",
   "execution_count": null,
   "id": "f0896a32",
   "metadata": {},
   "outputs": [],
   "source": [
    "df2 = patient_stats(np.random.rand(10, 4), columns=[\"Patient Race\",\"Patient Gender\",\"Patient Age\",\"Is Patient on diabetes Meds?\", \"Time In Hospital\", \"Patient Insulin\"])\n",
    "\n",
    "df2.plot.bar();"
   ]
  },
  {
   "cell_type": "markdown",
   "id": "dd478100",
   "metadata": {},
   "source": [
    "### Descriptive Statistics"
   ]
  },
  {
   "cell_type": "code",
   "execution_count": null,
   "id": "3aa1ba04",
   "metadata": {},
   "outputs": [],
   "source": []
  },
  {
   "cell_type": "markdown",
   "id": "19245ea3",
   "metadata": {},
   "source": [
    "### Detailed Description of everything"
   ]
  },
  {
   "cell_type": "code",
   "execution_count": null,
   "id": "7a5b48c4",
   "metadata": {},
   "outputs": [],
   "source": [
    "\n"
   ]
  },
  {
   "cell_type": "code",
   "execution_count": null,
   "id": "287abad1",
   "metadata": {},
   "outputs": [],
   "source": []
  }
 ],
 "metadata": {
  "kernelspec": {
   "display_name": "Python 3",
   "language": "python",
   "name": "python3"
  },
  "language_info": {
   "codemirror_mode": {
    "name": "ipython",
    "version": 3
   },
   "file_extension": ".py",
   "mimetype": "text/x-python",
   "name": "python",
   "nbconvert_exporter": "python",
   "pygments_lexer": "ipython3",
   "version": "3.9.4"
  }
 },
 "nbformat": 4,
 "nbformat_minor": 5
}
